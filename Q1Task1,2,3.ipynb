{
 "cells": [
  {
   "cell_type": "code",
   "execution_count": 3,
   "id": "8ee4d2cf",
   "metadata": {},
   "outputs": [],
   "source": [
    "#Question 1, Task1\n",
    "import pandas as pd\n",
    "\n",
    "csv_file_paths = ['CSV1.csv','CSV2.csv','CSV3.csv','CSV4.csv']\n",
    "combined_text = \"\"\n",
    "\n",
    "for file_path in csv_file_paths:\n",
    "    df = pd.read_csv(file_path)\n",
    "    text_column = df.columns[2]\n",
    "    combined_text += \" \".join(df[text_column].astype(str)) + \" \"\n",
    "\n",
    "txt_file_path = 'combined_text.txt'\n",
    "with open(txt_file_path, 'w') as file:\n",
    "    file.write(combined_text)"
   ]
  },
  {
   "cell_type": "code",
   "execution_count": 4,
   "id": "041e32c0",
   "metadata": {},
   "outputs": [
    {
     "data": {
      "text/plain": [
       "'combined_text.txt'"
      ]
     },
     "execution_count": 4,
     "metadata": {},
     "output_type": "execute_result"
    }
   ],
   "source": [
    "txt_file_path"
   ]
  },
  {
   "cell_type": "code",
   "execution_count": 5,
   "id": "9bcc20ca",
   "metadata": {},
   "outputs": [],
   "source": [
    "#Question 1, Task 2 (Research), Task 3 (3.1)\n",
    "from collections import Counter\n",
    "import re\n",
    "\n",
    "def clean_and_split_text(text):\n",
    "    words = re.findall(r'\\b[a-z]+\\b', text.lower())\n",
    "    return words\n",
    "\n",
    "with open(txt_file_path, 'r') as file:\n",
    "    text = file.read()\n",
    "\n",
    "words = clean_and_split_text(text)\n",
    "\n",
    "word_count = Counter(words)\n",
    "\n",
    "top_30_words = word_count.most_common(30)\n",
    "\n",
    "df_top_30_words = pd.DataFrame(top_30_words, columns=['Word', 'Count'])\n",
    "\n",
    "top_words_csv_path = 'top_30_words.csv'\n",
    "df_top_30_words.to_csv(top_words_csv_path, index=False)"
   ]
  },
  {
   "cell_type": "code",
   "execution_count": 6,
   "id": "c552fca7",
   "metadata": {},
   "outputs": [
    {
     "data": {
      "text/html": [
       "<div>\n",
       "<style scoped>\n",
       "    .dataframe tbody tr th:only-of-type {\n",
       "        vertical-align: middle;\n",
       "    }\n",
       "\n",
       "    .dataframe tbody tr th {\n",
       "        vertical-align: top;\n",
       "    }\n",
       "\n",
       "    .dataframe thead th {\n",
       "        text-align: right;\n",
       "    }\n",
       "</style>\n",
       "<table border=\"1\" class=\"dataframe\">\n",
       "  <thead>\n",
       "    <tr style=\"text-align: right;\">\n",
       "      <th></th>\n",
       "      <th>Word</th>\n",
       "      <th>Count</th>\n",
       "    </tr>\n",
       "  </thead>\n",
       "  <tbody>\n",
       "    <tr>\n",
       "      <th>0</th>\n",
       "      <td>the</td>\n",
       "      <td>597286</td>\n",
       "    </tr>\n",
       "    <tr>\n",
       "      <th>1</th>\n",
       "      <td>and</td>\n",
       "      <td>540710</td>\n",
       "    </tr>\n",
       "    <tr>\n",
       "      <th>2</th>\n",
       "      <td>was</td>\n",
       "      <td>448555</td>\n",
       "    </tr>\n",
       "    <tr>\n",
       "      <th>3</th>\n",
       "      <td>of</td>\n",
       "      <td>443585</td>\n",
       "    </tr>\n",
       "    <tr>\n",
       "      <th>4</th>\n",
       "      <td>to</td>\n",
       "      <td>428376</td>\n",
       "    </tr>\n",
       "  </tbody>\n",
       "</table>\n",
       "</div>"
      ],
      "text/plain": [
       "  Word   Count\n",
       "0  the  597286\n",
       "1  and  540710\n",
       "2  was  448555\n",
       "3   of  443585\n",
       "4   to  428376"
      ]
     },
     "execution_count": 6,
     "metadata": {},
     "output_type": "execute_result"
    }
   ],
   "source": [
    "df_top_30_words.head()"
   ]
  },
  {
   "cell_type": "code",
   "execution_count": null,
   "id": "88dac831",
   "metadata": {
    "scrolled": true
   },
   "outputs": [
    {
     "data": {
      "application/vnd.jupyter.widget-view+json": {
       "model_id": "1dac8f25b27f45529fe7ed8b675cbf49",
       "version_major": 2,
       "version_minor": 0
      },
      "text/plain": [
       "Downloading tokenizer_config.json:   0%|          | 0.00/28.0 [00:00<?, ?B/s]"
      ]
     },
     "metadata": {},
     "output_type": "display_data"
    },
    {
     "name": "stderr",
     "output_type": "stream",
     "text": [
      "C:\\ProgramData\\Anaconda3\\lib\\site-packages\\huggingface_hub\\file_download.py:133: UserWarning: `huggingface_hub` cache-system uses symlinks by default to efficiently store duplicated files but your machine does not support them in C:\\Users\\madsh\\.cache\\huggingface\\hub. Caching files will still work but in a degraded version that might require more space on your disk. This warning can be disabled by setting the `HF_HUB_DISABLE_SYMLINKS_WARNING` environment variable. For more details, see https://huggingface.co/docs/huggingface_hub/how-to-cache#limitations.\n",
      "To support symlinks on Windows, you either need to activate Developer Mode or to run Python as an administrator. In order to see activate developer mode, see this article: https://docs.microsoft.com/en-us/windows/apps/get-started/enable-your-device-for-development\n",
      "  warnings.warn(message)\n"
     ]
    },
    {
     "data": {
      "application/vnd.jupyter.widget-view+json": {
       "model_id": "3f884cb8f6c64fc2bf7623058dca94b5",
       "version_major": 2,
       "version_minor": 0
      },
      "text/plain": [
       "Downloading config.json:   0%|          | 0.00/570 [00:00<?, ?B/s]"
      ]
     },
     "metadata": {},
     "output_type": "display_data"
    },
    {
     "data": {
      "application/vnd.jupyter.widget-view+json": {
       "model_id": "083d36c62b2247adb77890369fbc40fe",
       "version_major": 2,
       "version_minor": 0
      },
      "text/plain": [
       "Downloading vocab.txt:   0%|          | 0.00/232k [00:00<?, ?B/s]"
      ]
     },
     "metadata": {},
     "output_type": "display_data"
    },
    {
     "data": {
      "application/vnd.jupyter.widget-view+json": {
       "model_id": "5f9765986b894477b17565be1edf3de1",
       "version_major": 2,
       "version_minor": 0
      },
      "text/plain": [
       "Downloading tokenizer.json:   0%|          | 0.00/466k [00:00<?, ?B/s]"
      ]
     },
     "metadata": {},
     "output_type": "display_data"
    }
   ],
   "source": [
    "#Question 1, Task 3.2\n",
    "from transformers import AutoTokenizer\n",
    "from collections import Counter\n",
    "\n",
    "def count_unique_tokens(text, model_name='bert-base-uncased'):\n",
    "    tokenizer = AutoTokenizer.from_pretrained(model_name)\n",
    "    tokens = tokenizer.tokenize(text)\n",
    "    token_counts = Counter(tokens)\n",
    "    return token_counts.most_common(30)\n",
    "\n",
    "with open(txt_file_path, 'r') as file:\n",
    "    text = file.read(5)\n",
    "top_30_tokens = count_unique_tokens(text)\n",
    "print(top_30_tokens)"
   ]
  }
 ],
 "metadata": {
  "kernelspec": {
   "display_name": "Python 3 (ipykernel)",
   "language": "python",
   "name": "python3"
  },
  "language_info": {
   "codemirror_mode": {
    "name": "ipython",
    "version": 3
   },
   "file_extension": ".py",
   "mimetype": "text/x-python",
   "name": "python",
   "nbconvert_exporter": "python",
   "pygments_lexer": "ipython3",
   "version": "3.11.5"
  }
 },
 "nbformat": 4,
 "nbformat_minor": 5
}
