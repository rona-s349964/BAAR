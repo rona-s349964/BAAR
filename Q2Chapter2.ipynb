{
 "cells": [
  {
   "cell_type": "code",
   "execution_count": 1,
   "id": "5d3e9ec7",
   "metadata": {},
   "outputs": [
    {
     "name": "stdout",
     "output_type": "stream",
     "text": [
      "Enter String: ABC123defg4567\n",
      "Letter String:  ABCdefg\n",
      "Number String:  1234567\n",
      "Upper Case Letters:  ABC\n",
      "ASCII Code:  [65, 66, 67]\n",
      "Even Numbers:  246\n",
      "ASCII Code:  [50, 52, 54]\n"
     ]
    }
   ],
   "source": [
    "#Question 2, Chapter 2 (The Chamber of Strings)\n",
    "import re\n",
    "\n",
    "string = input('Enter String: ')\n",
    "\n",
    "letters = \"\".join(re.split(\"[^a-zA-Z]*\", string))\n",
    "numbers = \"\".join(re.split(\"[^0-9]*\", string))\n",
    "uppercase = \"\".join(re.split(\"[^A-Z]*\", string))\n",
    "even = \"\".join(re.split(\"[^2,4,6,8,0]*\", string))\n",
    "\n",
    "print(\"Letter String: \", str(letters))\n",
    "print(\"Number String: \", str(numbers))\n",
    "\n",
    "print(\"Upper Case Letters: \", str(uppercase))\n",
    "converted = list(uppercase.encode('ascii'))\n",
    "print(\"ASCII Code: \", converted)\n",
    "\n",
    "print(\"Even Numbers: \", str(even))\n",
    "converted = list(even.encode('ascii'))\n",
    "print(\"ASCII Code: \", converted)"
   ]
  },
  {
   "cell_type": "code",
   "execution_count": 2,
   "id": "3f34306c",
   "metadata": {},
   "outputs": [
    {
     "name": "stdout",
     "output_type": "stream",
     "text": [
      "Enter a cryptogram: Khoor, Zruog!\n",
      "Enter shift key value (s): 3\n",
      "If ciphered quote is  Khoor, Zruog! and 's' is  3 then original quote is  Hello, World!\n"
     ]
    }
   ],
   "source": [
    "#Question 2, Chapter 2 (Deciphering)\n",
    "def decrypt_cryptogram(cipheredquote, keyvalue):\n",
    "    \n",
    "    decryptedquote = \"\"\n",
    "\n",
    "    for char in cipheredquote:\n",
    "        if char.isalpha():\n",
    "            is_upper = char.isupper()\n",
    "\n",
    "            shifted = chr((ord(char) - keyvalue - ord('A' if is_upper else 'a')) % 26 + ord('A' if is_upper else 'a'))\n",
    "\n",
    "            decryptedquote += shifted\n",
    "        else:\n",
    "            decryptedquote += char\n",
    "    return decryptedquote\n",
    "\n",
    "cipheredquote = input ('Enter a cryptogram: ')\n",
    "keyvalue = int(input(\"Enter shift key value (s): \"))\n",
    "\n",
    "decipheredquote = decrypt_cryptogram(cipheredquote, keyvalue)\n",
    "print(\"If ciphered quote is \", cipheredquote, \"and 's' is \", keyvalue, \"then original quote is \", decipheredquote)"
   ]
  },
  {
   "cell_type": "code",
   "execution_count": null,
   "id": "9007082d",
   "metadata": {},
   "outputs": [],
   "source": []
  }
 ],
 "metadata": {
  "kernelspec": {
   "display_name": "Python 3 (ipykernel)",
   "language": "python",
   "name": "python3"
  },
  "language_info": {
   "codemirror_mode": {
    "name": "ipython",
    "version": 3
   },
   "file_extension": ".py",
   "mimetype": "text/x-python",
   "name": "python",
   "nbconvert_exporter": "python",
   "pygments_lexer": "ipython3",
   "version": "3.11.5"
  }
 },
 "nbformat": 4,
 "nbformat_minor": 5
}
