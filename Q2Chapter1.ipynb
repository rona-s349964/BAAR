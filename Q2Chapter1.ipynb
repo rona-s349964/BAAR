{
 "cells": [
  {
   "cell_type": "code",
   "execution_count": 1,
   "id": "dca41d3c",
   "metadata": {},
   "outputs": [
    {
     "data": {
      "text/plain": [
       "231584516"
      ]
     },
     "execution_count": 1,
     "metadata": {},
     "output_type": "execute_result"
    }
   ],
   "source": [
    "#Question 2, Chapter 1\n",
    "#Output included on zip file\n",
    "from PIL import Image\n",
    "import numpy as np\n",
    "\n",
    "img_path = 'chapter1.jpg'\n",
    "img = Image.open(img_path)\n",
    "\n",
    "img_array = np.array(img)\n",
    "\n",
    "number_to_add = 10\n",
    "\n",
    "modified_img_array = np.clip(img_array + number_to_add, 0, 255)\n",
    "\n",
    "modified_img = Image.fromarray(modified_img_array.astype('uint8'))\n",
    "\n",
    "modified_img_path = 'chapter1out.png'\n",
    "modified_img.save(modified_img_path)\n",
    "\n",
    "sum_red_values = np.sum(modified_img_array[:,:,0])\n",
    "\n",
    "sum_red_values"
   ]
  }
 ],
 "metadata": {
  "kernelspec": {
   "display_name": "Python 3 (ipykernel)",
   "language": "python",
   "name": "python3"
  },
  "language_info": {
   "codemirror_mode": {
    "name": "ipython",
    "version": 3
   },
   "file_extension": ".py",
   "mimetype": "text/x-python",
   "name": "python",
   "nbconvert_exporter": "python",
   "pygments_lexer": "ipython3",
   "version": "3.11.5"
  }
 },
 "nbformat": 4,
 "nbformat_minor": 5
}
