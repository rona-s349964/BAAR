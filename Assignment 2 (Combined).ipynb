{
 "cells": [
  {
   "cell_type": "code",
   "execution_count": 3,
   "id": "8ee4d2cf",
   "metadata": {},
   "outputs": [],
   "source": [
    "#Question 1, Task1\n",
    "import pandas as pd\n",
    "\n",
    "csv_file_paths = ['CSV1.csv','CSV2.csv','CSV3.csv','CSV4.csv']\n",
    "combined_text = \"\"\n",
    "\n",
    "for file_path in csv_file_paths:\n",
    "    df = pd.read_csv(file_path)\n",
    "    text_column = df.columns[2]\n",
    "    combined_text += \" \".join(df[text_column].astype(str)) + \" \"\n",
    "\n",
    "txt_file_path = 'combined_text.txt'\n",
    "with open(txt_file_path, 'w') as file:\n",
    "    file.write(combined_text)"
   ]
  },
  {
   "cell_type": "code",
   "execution_count": 4,
   "id": "041e32c0",
   "metadata": {},
   "outputs": [
    {
     "data": {
      "text/plain": [
       "'combined_text.txt'"
      ]
     },
     "execution_count": 4,
     "metadata": {},
     "output_type": "execute_result"
    }
   ],
   "source": [
    "txt_file_path"
   ]
  },
  {
   "cell_type": "code",
   "execution_count": 5,
   "id": "9bcc20ca",
   "metadata": {},
   "outputs": [],
   "source": [
    "#Question 1, Task 2 (Research), Task 3 (3.1)\n",
    "from collections import Counter\n",
    "import re\n",
    "\n",
    "def clean_and_split_text(text):\n",
    "    words = re.findall(r'\\b[a-z]+\\b', text.lower())\n",
    "    return words\n",
    "\n",
    "with open(txt_file_path, 'r') as file:\n",
    "    text = file.read()\n",
    "\n",
    "words = clean_and_split_text(text)\n",
    "\n",
    "word_count = Counter(words)\n",
    "\n",
    "top_30_words = word_count.most_common(30)\n",
    "\n",
    "df_top_30_words = pd.DataFrame(top_30_words, columns=['Word', 'Count'])\n",
    "\n",
    "top_words_csv_path = 'top_30_words.csv'\n",
    "df_top_30_words.to_csv(top_words_csv_path, index=False)"
   ]
  },
  {
   "cell_type": "code",
   "execution_count": 6,
   "id": "c552fca7",
   "metadata": {},
   "outputs": [
    {
     "data": {
      "text/html": [
       "<div>\n",
       "<style scoped>\n",
       "    .dataframe tbody tr th:only-of-type {\n",
       "        vertical-align: middle;\n",
       "    }\n",
       "\n",
       "    .dataframe tbody tr th {\n",
       "        vertical-align: top;\n",
       "    }\n",
       "\n",
       "    .dataframe thead th {\n",
       "        text-align: right;\n",
       "    }\n",
       "</style>\n",
       "<table border=\"1\" class=\"dataframe\">\n",
       "  <thead>\n",
       "    <tr style=\"text-align: right;\">\n",
       "      <th></th>\n",
       "      <th>Word</th>\n",
       "      <th>Count</th>\n",
       "    </tr>\n",
       "  </thead>\n",
       "  <tbody>\n",
       "    <tr>\n",
       "      <th>0</th>\n",
       "      <td>the</td>\n",
       "      <td>597286</td>\n",
       "    </tr>\n",
       "    <tr>\n",
       "      <th>1</th>\n",
       "      <td>and</td>\n",
       "      <td>540710</td>\n",
       "    </tr>\n",
       "    <tr>\n",
       "      <th>2</th>\n",
       "      <td>was</td>\n",
       "      <td>448555</td>\n",
       "    </tr>\n",
       "    <tr>\n",
       "      <th>3</th>\n",
       "      <td>of</td>\n",
       "      <td>443585</td>\n",
       "    </tr>\n",
       "    <tr>\n",
       "      <th>4</th>\n",
       "      <td>to</td>\n",
       "      <td>428376</td>\n",
       "    </tr>\n",
       "  </tbody>\n",
       "</table>\n",
       "</div>"
      ],
      "text/plain": [
       "  Word   Count\n",
       "0  the  597286\n",
       "1  and  540710\n",
       "2  was  448555\n",
       "3   of  443585\n",
       "4   to  428376"
      ]
     },
     "execution_count": 6,
     "metadata": {},
     "output_type": "execute_result"
    }
   ],
   "source": [
    "df_top_30_words.head()"
   ]
  },
  {
   "cell_type": "code",
   "execution_count": null,
   "id": "88dac831",
   "metadata": {
    "scrolled": true
   },
   "outputs": [
    {
     "data": {
      "application/vnd.jupyter.widget-view+json": {
       "model_id": "1dac8f25b27f45529fe7ed8b675cbf49",
       "version_major": 2,
       "version_minor": 0
      },
      "text/plain": [
       "Downloading tokenizer_config.json:   0%|          | 0.00/28.0 [00:00<?, ?B/s]"
      ]
     },
     "metadata": {},
     "output_type": "display_data"
    },
    {
     "name": "stderr",
     "output_type": "stream",
     "text": [
      "C:\\ProgramData\\Anaconda3\\lib\\site-packages\\huggingface_hub\\file_download.py:133: UserWarning: `huggingface_hub` cache-system uses symlinks by default to efficiently store duplicated files but your machine does not support them in C:\\Users\\madsh\\.cache\\huggingface\\hub. Caching files will still work but in a degraded version that might require more space on your disk. This warning can be disabled by setting the `HF_HUB_DISABLE_SYMLINKS_WARNING` environment variable. For more details, see https://huggingface.co/docs/huggingface_hub/how-to-cache#limitations.\n",
      "To support symlinks on Windows, you either need to activate Developer Mode or to run Python as an administrator. In order to see activate developer mode, see this article: https://docs.microsoft.com/en-us/windows/apps/get-started/enable-your-device-for-development\n",
      "  warnings.warn(message)\n"
     ]
    },
    {
     "data": {
      "application/vnd.jupyter.widget-view+json": {
       "model_id": "3f884cb8f6c64fc2bf7623058dca94b5",
       "version_major": 2,
       "version_minor": 0
      },
      "text/plain": [
       "Downloading config.json:   0%|          | 0.00/570 [00:00<?, ?B/s]"
      ]
     },
     "metadata": {},
     "output_type": "display_data"
    },
    {
     "data": {
      "application/vnd.jupyter.widget-view+json": {
       "model_id": "083d36c62b2247adb77890369fbc40fe",
       "version_major": 2,
       "version_minor": 0
      },
      "text/plain": [
       "Downloading vocab.txt:   0%|          | 0.00/232k [00:00<?, ?B/s]"
      ]
     },
     "metadata": {},
     "output_type": "display_data"
    },
    {
     "data": {
      "application/vnd.jupyter.widget-view+json": {
       "model_id": "5f9765986b894477b17565be1edf3de1",
       "version_major": 2,
       "version_minor": 0
      },
      "text/plain": [
       "Downloading tokenizer.json:   0%|          | 0.00/466k [00:00<?, ?B/s]"
      ]
     },
     "metadata": {},
     "output_type": "display_data"
    }
   ],
   "source": [
    "#Question 1, Task 3.2\n",
    "from transformers import AutoTokenizer\n",
    "from collections import Counter\n",
    "\n",
    "def count_unique_tokens(text, model_name='bert-base-uncased'):\n",
    "    tokenizer = AutoTokenizer.from_pretrained(model_name)\n",
    "    tokens = tokenizer.tokenize(text)\n",
    "    token_counts = Counter(tokens)\n",
    "    return token_counts.most_common(30)\n",
    "\n",
    "with open(txt_file_path, 'r') as file:\n",
    "    text = file.read(5)\n",
    "top_30_tokens = count_unique_tokens(text)\n",
    "print(top_30_tokens)"
   ]
  },
  {
   "cell_type": "code",
   "execution_count": 1,
   "id": "dca41d3c",
   "metadata": {},
   "outputs": [
    {
     "data": {
      "text/plain": [
       "231584516"
      ]
     },
     "execution_count": 1,
     "metadata": {},
     "output_type": "execute_result"
    }
   ],
   "source": [
    "#Question 2, Chapter 1\n",
    "#Output included on zip file\n",
    "from PIL import Image\n",
    "import numpy as np\n",
    "\n",
    "img_path = 'chapter1.jpg'\n",
    "img = Image.open(img_path)\n",
    "\n",
    "img_array = np.array(img)\n",
    "\n",
    "number_to_add = 10\n",
    "\n",
    "modified_img_array = np.clip(img_array + number_to_add, 0, 255)\n",
    "\n",
    "modified_img = Image.fromarray(modified_img_array.astype('uint8'))\n",
    "\n",
    "modified_img_path = 'chapter1out.png'\n",
    "modified_img.save(modified_img_path)\n",
    "\n",
    "sum_red_values = np.sum(modified_img_array[:,:,0])\n",
    "\n",
    "sum_red_values"
   ]
  },
  {
   "cell_type": "code",
   "execution_count": 2,
   "id": "b297e2d5",
   "metadata": {},
   "outputs": [
    {
     "name": "stdout",
     "output_type": "stream",
     "text": [
      "Enter String: ABCD123efgh456\n",
      "Letter String:  ABCDefgh\n",
      "Number String:  123456\n",
      "Upper Case Letters:  ABCD\n",
      "ASCII Code:  [65, 66, 67, 68]\n",
      "Even Numbers:  246\n",
      "ASCII Code:  [50, 52, 54]\n"
     ]
    }
   ],
   "source": [
    "#Question 2, Chapter 2 (The Chamber of Strings)\n",
    "import re\n",
    "\n",
    "string = input('Enter String: ')\n",
    "\n",
    "letters = \"\".join(re.split(\"[^a-zA-Z]*\", string))\n",
    "numbers = \"\".join(re.split(\"[^0-9]*\", string))\n",
    "uppercase = \"\".join(re.split(\"[^A-Z]*\", string))\n",
    "even = \"\".join(re.split(\"[^2,4,6,8,0]*\", string))\n",
    "\n",
    "print(\"Letter String: \", str(letters))\n",
    "print(\"Number String: \", str(numbers))\n",
    "\n",
    "print(\"Upper Case Letters: \", str(uppercase))\n",
    "converted = list(uppercase.encode('ascii'))\n",
    "print(\"ASCII Code: \", converted)\n",
    "\n",
    "print(\"Even Numbers: \", str(even))\n",
    "converted = list(even.encode('ascii'))\n",
    "print(\"ASCII Code: \", converted)"
   ]
  },
  {
   "cell_type": "code",
   "execution_count": 3,
   "id": "ca22f348",
   "metadata": {},
   "outputs": [
    {
     "name": "stdout",
     "output_type": "stream",
     "text": [
      "Enter a cryptogram: Khoor, Zruog!\n",
      "Enter shift key value (s): 3\n",
      "If ciphered quote is  Khoor, Zruog! and 's' is  3 then original quote is  Hello, World!\n"
     ]
    }
   ],
   "source": [
    "#Question 2, Chapter 2 (Deciphering)\n",
    "def decrypt_cryptogram(cipheredquote, keyvalue):\n",
    "    \n",
    "    decryptedquote = \"\"\n",
    "\n",
    "    for char in cipheredquote:\n",
    "        if char.isalpha():\n",
    "            is_upper = char.isupper()\n",
    "\n",
    "            shifted = chr((ord(char) - keyvalue - ord('A' if is_upper else 'a')) % 26 + ord('A' if is_upper else 'a'))\n",
    "\n",
    "            decryptedquote += shifted\n",
    "        else:\n",
    "            decryptedquote += char\n",
    "    return decryptedquote\n",
    "\n",
    "cipheredquote = input ('Enter a cryptogram: ')\n",
    "keyvalue = int(input(\"Enter shift key value (s): \"))\n",
    "\n",
    "decipheredquote = decrypt_cryptogram(cipheredquote, keyvalue)\n",
    "print(\"If ciphered quote is \", cipheredquote, \"and 's' is \", keyvalue, \"then original quote is \", decipheredquote)"
   ]
  },
  {
   "cell_type": "code",
   "execution_count": 4,
   "id": "736f9bbb",
   "metadata": {},
   "outputs": [
    {
     "name": "stdout",
     "output_type": "stream",
     "text": [
      "\n",
      "        global_variable = 100  \n",
      "        my_dict = {'key1': 'value1', 'key2': 'value2', 'key3': 'value3'] \n",
      "        def process_numbers(): \n",
      "            global global_variable \n",
      "            local_variable = 5 \n",
      "            numbers = [1,2,3,4,5] \n",
      "            while local_variable > 0: \n",
      "                if local_variable % 2 == 0:\n",
      "                    numbers.remove(local_variable) \n",
      "                local_variable -= 1 \n",
      "            return numbers\n",
      "        my_set = {1,2,3,4,5,5,4,3,2,1} \n",
      "        result = process_numbers(numbers=m1_set)\n",
      "        def modify_dict():\n",
      "                local_variable = 10 \n",
      "                my_dict['key4'] = local_variable \n",
      "        modify_dict(5) \n",
      "        def update_global(): \n",
      "            global global_variable \n",
      "            global_variable += 10 \n",
      "        for i in range(5): \n",
      "            print(i) \n",
      "            i += 1 \n",
      "        if my_set is not None and my_dict['key4'] == 10: \n",
      "            print('Condition met!') \n",
      "        if 5 not in my_dict: \n",
      "            print('5 not found in the dictionary!') \n",
      "        print(global_variable) \n",
      "        print(my_dict)\n",
      "        print(my_set)\n",
      "0\n",
      "1\n",
      "2\n",
      "3\n",
      "4\n",
      "Condition met!\n",
      "5 not found in the dictionary!\n",
      "100\n",
      "{'key1': 'value1', 'key2': 'value2', 'key3': 'value3', 'key4': 10}\n",
      "{1, 2, 3, 4, 5}\n"
     ]
    }
   ],
   "source": [
    "#Question 3\n",
    "def decrypt(text):\n",
    "    decrypted = \"\"\n",
    "    for char in text:\n",
    "        if char.isalpha():\n",
    "            shifted = ord(char)- 13 #key is 13\n",
    "            if char.islower():\n",
    "                if shifted > ord('z'):\n",
    "                    shifted -= 26 #reverse the shifted change sign from + to - \n",
    "                elif shifted < ord('a'):\n",
    "                    shifted += 26 #reverse the shifted change sign from - to + \n",
    "            elif char.isupper():\n",
    "                if shifted > ord('Z'):\n",
    "                    shifted -= 26 #reverse the shifted change sign from + to - \n",
    "                elif shifted < ord('A'):\n",
    "                    shifted += 26 #reverse the shifted change sign from - to + \n",
    "            decrypted += chr(shifted)\n",
    "        else:\n",
    "            decrypted += char\n",
    "    return decrypted\n",
    "\n",
    "code = \"\"\"\n",
    "        tybony_inevnoyr = 100  \n",
    "        zl_qvpg = {'xrl1': 'inyhr1', 'xrl2': 'inyhr2', 'xrl3': 'inyhr3'] \n",
    "        qrs cebprff_ahzoref(): \n",
    "            tybony tybony_inevnoyr \n",
    "            ybpny_inevnoyr = 5 \n",
    "            ahzoref = [1,2,3,4,5] \n",
    "            juvyr ybpny_inevnoyr > 0: \n",
    "                vs ybpny_inevnoyr % 2 == 0:\n",
    "                    ahzoref.erzbir(ybpny_inevnoyr) \n",
    "                ybpny_inevnoyr -= 1 \n",
    "            erghea ahzoref\n",
    "        zl_frg = {1,2,3,4,5,5,4,3,2,1} \n",
    "        erfhyg = cebprff_ahzoref(ahzoref=z1_frg)\n",
    "        qrs zbqvsl_qvpg():\n",
    "                ybpny_inevnoyr = 10 \n",
    "                zl_qvpg['xrl4'] = ybpny_inevnoyr \n",
    "        zbqvsl_qvpg(5) \n",
    "        qrs hcqngr_tybony(): \n",
    "            tybony tybony_inevnoyr \n",
    "            tybony_inevnoyr += 10 \n",
    "        sbe v va enatr(5): \n",
    "            cevag(v) \n",
    "            v += 1 \n",
    "        vs zl_frg vf abg Abar naq zl_qvpg['xrl4'] == 10: \n",
    "            cevag('Pbaqvgvba zrg!') \n",
    "        vs 5 abg va zl_qvpg: \n",
    "            cevag('5 abg sbhaq va gur qvpgvbanel!') \n",
    "        cevag(tybony_inevnoyr) \n",
    "        cevag(zl_qvpg)\n",
    "        cevag(zl_frg)\"\"\"\n",
    "\n",
    "original_code = decrypt(code)\n",
    "print(original_code)\n",
    "\n",
    "#FIXING the code error q.n.3\n",
    "# wrong decrypted code:\n",
    "# global_variable = 100\n",
    "# my_dict = {'key1': 'value1', 'key2': 'value2', 'key3': 'value3']\n",
    "# def process_numbers():\n",
    "#     global global_variable\n",
    "#     local_variable = 5\n",
    "#     numbers = [1,2,3,4,5]\n",
    "#     while local_variable > 0:\n",
    "#         if local_variable % 2 == 0:\n",
    "#             numbers.remove(local_variable)\n",
    "#         local_variable -= 1\n",
    "#     return numbers\n",
    "# my_set = {1,2,3,4,5,5,4,3,2,1}\n",
    "# result = process_numbers(numbers=my_set)\n",
    "# def modify_dict():\n",
    "#         local_variable = 10\n",
    "#         my_dict['key4'] = local_variable\n",
    "# modify_dict(5)\n",
    "# def update_global():\n",
    "#     global global_variable\n",
    "#     global_variable += 10\n",
    "# for i in range(5):\n",
    "#     print(i)\n",
    "#     i += 1\n",
    "# if my_set is not None and my_dict['key4'] == 10:\n",
    "#     print('Condition met!')\n",
    "# if 5 not in my_dict:\n",
    "#     print('5 not found in the dictionary!')\n",
    "# print(global_variable)\n",
    "# print(my_dict)\n",
    "# print(my_set)\n",
    "\n",
    "\n",
    "#syntax corrected code \n",
    "# FINAL CODE:\n",
    "\n",
    "global_variable = 100\n",
    "my_dict = {'key1': 'value1', 'key2': 'value2', 'key3': 'value3'} # dictionary ends with curly braces\n",
    "def process_numbers(numbers): # parameter should be specified as during call of the function numbers argument is passed\n",
    "    global global_variable\n",
    "    local_variable = 5\n",
    "    numbers = [1,2,3,4,5]\n",
    "    while local_variable > 0:\n",
    "        if local_variable % 2 == 0:\n",
    "            numbers.remove(local_variable)\n",
    "        local_variable -= 1\n",
    "    return numbers\n",
    "my_set = {1,2,3,4,5,5,4,3,2,1}\n",
    "result = process_numbers(numbers=my_set)\n",
    "def modify_dict(num): # specify num\n",
    "        local_variable = 10\n",
    "        my_dict['key4'] = local_variable\n",
    "modify_dict(5)\n",
    "def update_global():\n",
    "    global global_variable\n",
    "    global_variable += 10\n",
    "for i in range(5):\n",
    "    print(i)\n",
    "    i += 1\n",
    "if my_set is not None and my_dict['key4'] == 10: # 10 is found in the values of dictionary so condition met is printed\n",
    "    print('Condition met!')\n",
    "if 5 not in my_dict: # since 5 is in my_set but not in dictionary so it prints 5 is not found in the dictionary!\n",
    "    print('5 not found in the dictionary!')\n",
    "print(global_variable)\n",
    "print(my_dict)\n",
    "print(my_set)"
   ]
  },
  {
   "cell_type": "code",
   "execution_count": null,
   "id": "46406369",
   "metadata": {},
   "outputs": [],
   "source": []
  }
 ],
 "metadata": {
  "kernelspec": {
   "display_name": "Python 3 (ipykernel)",
   "language": "python",
   "name": "python3"
  },
  "language_info": {
   "codemirror_mode": {
    "name": "ipython",
    "version": 3
   },
   "file_extension": ".py",
   "mimetype": "text/x-python",
   "name": "python",
   "nbconvert_exporter": "python",
   "pygments_lexer": "ipython3",
   "version": "3.11.5"
  }
 },
 "nbformat": 4,
 "nbformat_minor": 5
}
